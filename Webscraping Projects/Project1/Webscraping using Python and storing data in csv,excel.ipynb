{
 "cells": [
  {
   "cell_type": "code",
   "execution_count": 12,
   "id": "82a65c32",
   "metadata": {},
   "outputs": [],
   "source": [
    "from bs4 import BeautifulSoup as bs4\n",
    "import requests\n",
    "import pandas as pd"
   ]
  },
  {
   "cell_type": "code",
   "execution_count": 13,
   "id": "c79ae4e0",
   "metadata": {},
   "outputs": [],
   "source": [
    "# Empty lists to store the data we're scraping\n",
    "pages = []\n",
    "prices = []\n",
    "stars = []\n",
    "titles = []\n",
    "urls = []\n",
    "\n",
    "pages_scraped = 1"
   ]
  },
  {
   "cell_type": "code",
   "execution_count": 16,
   "id": "73482fa5",
   "metadata": {},
   "outputs": [],
   "source": [
    "#This block of code simply increments the page\n",
    "for i in range(1, pages_scraped + 1):\n",
    "    url = ('http://books.toscrape.com/catalogue/page-{}.html').format(i)\n",
    "    pages.append(url)"
   ]
  },
  {
   "cell_type": "code",
   "execution_count": 18,
   "id": "9e8518b1",
   "metadata": {},
   "outputs": [],
   "source": [
    "#This collects all the source code per page\n",
    "for item in pages:\n",
    "    page = requests.get(item)\n",
    "    soup = bs4(page.text, 'html.parser')\n",
    "    # print(soup.prettify())"
   ]
  },
  {
   "cell_type": "code",
   "execution_count": 20,
   "id": "2be71e30",
   "metadata": {},
   "outputs": [],
   "source": [
    "#Collects all the titles in the <h3>\n",
    "for i in soup.findAll('h3'):\n",
    "        ttl = i.getText()\n",
    "        titles.append(ttl)"
   ]
  },
  {
   "cell_type": "code",
   "execution_count": 22,
   "id": "1d6834c3",
   "metadata": {},
   "outputs": [],
   "source": [
    "#Collects all the pricing for the books \n",
    "for j in soup.findAll('p', class_= 'price_color'):\n",
    "        price = j.getText()\n",
    "        prices.append(price)"
   ]
  },
  {
   "cell_type": "code",
   "execution_count": 23,
   "id": "ccb63a82",
   "metadata": {},
   "outputs": [],
   "source": [
    " #Collects the star rating \n",
    "for s in soup.findAll('p', class_='star-rating'):\n",
    "    for k,v in s.attrs.items():\n",
    "        star = v[1]\n",
    "        stars.append(star)\n",
    "    divs = soup.find_all('div', class_='image_container')"
   ]
  },
  {
   "cell_type": "code",
   "execution_count": 25,
   "id": "d8862be8",
   "metadata": {},
   "outputs": [],
   "source": [
    " # Collects the URLs for the images\n",
    "for thumbs in divs:\n",
    "        tgs = thumbs.find('img', class_='thumbnail')\n",
    "        urlss = 'https://books.toscrape.com/' + str(tgs['src'])     \n",
    "        new_urls = urlss.replace('../','')\n",
    "        urls.append(new_urls)"
   ]
  },
  {
   "cell_type": "code",
   "execution_count": 26,
   "id": "6d6dc06c",
   "metadata": {},
   "outputs": [],
   "source": [
    "data = {'Title': titles, 'Prices': prices, 'Stars': stars, 'URLs': urls}"
   ]
  },
  {
   "cell_type": "markdown",
   "id": "8f7321ad",
   "metadata": {},
   "source": [
    "The cell above will create a nicely formatted dataframe that will show the information laid out using pandas"
   ]
  },
  {
   "cell_type": "code",
   "execution_count": 27,
   "id": "51fc3da7",
   "metadata": {},
   "outputs": [],
   "source": [
    "df = pd.DataFrame(data=data)\n",
    "df.index +=1"
   ]
  },
  {
   "cell_type": "markdown",
   "id": "ac89d217",
   "metadata": {},
   "source": [
    "Exporting the data into an Excel format"
   ]
  },
  {
   "cell_type": "code",
   "execution_count": 28,
   "id": "c182a004",
   "metadata": {},
   "outputs": [],
   "source": [
    "df.to_excel('Desktop/books.xlsx')\n",
    "df.to_csv('Desktop/books.csv')"
   ]
  },
  {
   "cell_type": "code",
   "execution_count": null,
   "id": "5b988e01",
   "metadata": {},
   "outputs": [],
   "source": []
  }
 ],
 "metadata": {
  "kernelspec": {
   "display_name": "Python 3 (ipykernel)",
   "language": "python",
   "name": "python3"
  },
  "language_info": {
   "codemirror_mode": {
    "name": "ipython",
    "version": 3
   },
   "file_extension": ".py",
   "mimetype": "text/x-python",
   "name": "python",
   "nbconvert_exporter": "python",
   "pygments_lexer": "ipython3",
   "version": "3.9.12"
  }
 },
 "nbformat": 4,
 "nbformat_minor": 5
}
